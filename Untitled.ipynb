{
 "cells": [
  {
   "cell_type": "code",
   "execution_count": 8,
   "id": "a02df0ad-7849-4f73-bea3-3403cc77f748",
   "metadata": {},
   "outputs": [],
   "source": [
    "# Load Libraries\n",
    "\n",
    "import requests # allow you to send HTTP requests\n",
    "from bs4 import BeautifulSoup # allows you to parse\n",
    "import time  # allows you to do things with dates\n",
    "import csv #allows you to save csv\n"
   ]
  },
  {
   "cell_type": "code",
   "execution_count": 9,
   "id": "759bc394-e0ae-43f1-80d9-4f255cc7ba5a",
   "metadata": {},
   "outputs": [],
   "source": [
    "# Set Variables\n",
    "\n",
    "url = \"https://www.theguardian.com/us\""
   ]
  },
  {
   "cell_type": "code",
   "execution_count": 10,
   "id": "0f338ca6-6e66-4e76-a0e3-7f04a6d5264a",
   "metadata": {},
   "outputs": [],
   "source": [
    "\n",
    "# Download HTML\n",
    "page = requests.get(url)\n",
    "soup = BeautifulSoup(page.text, 'html.parser')\n",
    "\n",
    "# Parse HTML and print results\n",
    "main = soup.find(\"section\", {\"id\": \"headlines\"}) # isolate the section of html with the headlines\n",
    "all_headlines = main.find_all(\"a\") # put all of the a tags into a list\n",
    "\n",
    "headline_results = [] # create an empyt list to save results in \n",
    "url_results = [] # create an empty list to save results in \n",
    "\n",
    "# Seperate the url and text from the a tags\n",
    "for headline in all_headlines: # a for loop that get the url and text for each headline and saves it into a list\n",
    "  headline_text = headline.text\n",
    "  url = headline[\"href\"]\n",
    "  headline_results.append(headline_text)\n",
    "  url_results.append(url)"
   ]
  },
  {
   "cell_type": "code",
   "execution_count": 11,
   "id": "6b891f1d-03a6-4907-9e96-b672c603c197",
   "metadata": {},
   "outputs": [
    {
     "name": "stdout",
     "output_type": "stream",
     "text": [
      "Here is the list of headlines\n",
      "['', 'Illegal crude oil trainsRail firm must pay Native American tribe $400m ', 'TexasCourt dismisses Exxon’s lawsuit against climate activist shareholders', 'StanfordUniversity disappoints critics of fossil fuel donations by hiring PR firm with big oil ties', '', '', 'GazaAt\\xa0least 17 killed in refugee camps after latest Israeli strikes, say medics', '', '', '', '', '', '', '']\n",
      "--------------------\n",
      "Here is the list of urls\n",
      "['/us-news/article/2024/jun/18/epa-michael-regan-republicans-climate-crisis', '/us-news/article/2024/jun/18/bnsf-swinomish-tribe-crude-oil-trains', '/us-news/article/2024/jun/18/exxon-activist-investor-arjuna-lawsuit', '/us-news/article/2024/jun/17/stanford-pr-firm-fossil-fuels', '/us-news/article/2024/jun/18/us-citizenship-pathway-spouses-children-immigrants-joe-biden', '/world/article/2024/jun/18/hezbollah-publishes-surveillance-drone-footage-it-says-shows-locations-in-israel', '/world/article/2024/jun/18/palestinians-killed-gaza-refugee-camps-israeli-strikes-say-medics', '/culture/article/2024/jun/18/justin-timberlake-dwi-arrest-hamptons', '/us-news/live/2024/jun/18/biden-immigration-election-trump-campaign-latest-updates', '/us-news/article/2024/jun/18/vermont-republican-water-bag', '/us-news/article/2024/jun/18/bump-stocks-jd-vance-jacky-rosen', '/us-news/article/2024/jun/18/new-mexico-wildfire-evacuate', '/science/article/2024/jun/18/astronomers-detect-sudden-awakening-black-hole-1m-times-bigger-sun', '/sport/article/2024/jun/18/red-white-and-blue-jeans-usa-go-with-denim-for-olympics-uniforms']\n"
     ]
    }
   ],
   "source": [
    "# Visualize Results\n",
    "\n",
    "print(\"Here is the list of headlines\")\n",
    "print(headline_results)\n",
    "\n",
    "print(\"--------------------\")\n",
    "\n",
    "\n",
    "print(\"Here is the list of urls\")\n",
    "print(url_results)"
   ]
  },
  {
   "cell_type": "code",
   "execution_count": 12,
   "id": "a26b2c65-ed8b-46e1-abd5-e0ca6eec5ec6",
   "metadata": {},
   "outputs": [],
   "source": [
    "# Save Results\n",
    "\n",
    "# Save html\n",
    "with open(f'./html_download/guardian_headlines_{time.strftime(\"%Y%m%d-%H%M%S\")}.html', \"w\") as f:\n",
    "    f.write(page.text)\n",
    "\n",
    "\n",
    "# Save csv\n",
    "\n",
    "file = open(f'./csv_results/guardian_headlines_{time.strftime(\"%Y%m%d-%H%M%S\")}.csv', \"w\")\n",
    "headers = [\"headline\", \"url\"]\n",
    "writer = csv.writer(file)\n",
    "writer.writerow(headers)\n",
    "for w in range(len(headline_results)):\n",
    "  writer.writerow([headline_results[w], url_results[w]])\n",
    "file.close()\n"
   ]
  },
  {
   "cell_type": "code",
   "execution_count": null,
   "id": "a1deea15-e441-4c1a-9a13-718454cd72e6",
   "metadata": {},
   "outputs": [],
   "source": []
  }
 ],
 "metadata": {
  "kernelspec": {
   "display_name": "Python 3 (ipykernel)",
   "language": "python",
   "name": "python3"
  },
  "language_info": {
   "codemirror_mode": {
    "name": "ipython",
    "version": 3
   },
   "file_extension": ".py",
   "mimetype": "text/x-python",
   "name": "python",
   "nbconvert_exporter": "python",
   "pygments_lexer": "ipython3",
   "version": "3.12.4"
  }
 },
 "nbformat": 4,
 "nbformat_minor": 5
}
